{
 "cells": [
  {
   "cell_type": "markdown",
   "id": "82678c29",
   "metadata": {},
   "source": [
    "# Line Following Robot CoppeliaSim\n",
    "\n",
    "## Setup\n",
    "\n",
    "Make sure to have the server side running in CoppeliaSim: \n",
    "- in a child script of a CoppeliaSim scene, add following command to be executed just once, at simulation start:\n",
    "\n",
    "```\n",
    "simRemoteApi.start(19999)\n",
    "```\n",
    "then start simulation, and run this program.\n",
    "\n",
    "IMPORTANT: for each successful call to simxStart, there\n",
    "should be a corresponding call to simxFinish at the end!"
   ]
  },
  {
   "cell_type": "code",
   "execution_count": null,
   "id": "5ba35ba6",
   "metadata": {},
   "outputs": [],
   "source": [
    "try:\n",
    "    import sim\n",
    "except:\n",
    "    print ('--------------------------------------------------------------')\n",
    "    print ('\"sim.py\" could not be imported. This means very probably that')\n",
    "    print ('either \"sim.py\" or the remoteApi library could not be found.')\n",
    "    print ('Make sure both are in the same folder as this file,')\n",
    "    print ('or appropriately adjust the file \"sim.py\"')\n",
    "    print ('--------------------------------------------------------------')\n",
    "    print ('')\n",
    "\n",
    "import time\n",
    "import numpy as np"
   ]
  },
  {
   "cell_type": "markdown",
   "id": "df6a46c7",
   "metadata": {},
   "source": [
    "We have instructed CoppeliaSim to start a communication server on port 19999. The following statement is used to establish communication"
   ]
  },
  {
   "cell_type": "code",
   "execution_count": null,
   "id": "9adde62b",
   "metadata": {},
   "outputs": [],
   "source": [
    "sim.simxFinish(-1) # just in case, close all opened connections\n",
    "clientID=sim.simxStart('127.0.0.1',19999,True,True,5000,5) # Connect to CoppeliaSim in synchronous\n",
    "\n",
    "if clientID!=-1:\n",
    "    print ('Connected to remote API server')\n",
    "else:\n",
    "    print ('Failed connecting to remote API server')  "
   ]
  },
  {
   "cell_type": "markdown",
   "id": "b1aa0821",
   "metadata": {},
   "source": [
    "## Robot Initialization\n",
    "\n",
    "On the first part of the script, we need to get the joint objects, sensor objects and set their operation modes.\n",
    "\n",
    "- Object handles are fetched using the blocking mode\n",
    "- The first call to simxReadVisionSensor() should be \"streaming\" and the consecutive calls should be \"buffer\" mode"
   ]
  },
  {
   "cell_type": "code",
   "execution_count": null,
   "id": "43b90758",
   "metadata": {},
   "outputs": [],
   "source": [
    "# Motor handles\n",
    "motor = [-1, -1, -1, 1]  # motor[0] motor[1] are left, motor[2] motor[3] are right\n",
    "\n",
    "# Sensor handles\n",
    "sensorHandle = [-1,-1,-1,-1,-1]\n",
    "\n",
    "# Now try to retrieve handles in a blocking fashion (i.e. a service call):\n",
    "\n",
    "if clientID!=-1:\n",
    "\n",
    "    # ---------------------Initialize Motor--------------------- #\n",
    "    \n",
    "    err, motor[0] =sim.simxGetObjectHandle(clientID, '/Motor_FL', sim.simx_opmode_blocking)\n",
    "    if(err != 0):\n",
    "        print(\"Error getting motor 1\")\n",
    "    err, motor[1] =sim.simxGetObjectHandle(clientID, '/Motor_BL', sim.simx_opmode_blocking)\n",
    "    if(err != 0):\n",
    "        print(\"Error getting motor 2\")\n",
    "    err, motor[2] =sim.simxGetObjectHandle(clientID, '/Motor_FR', sim.simx_opmode_blocking)\n",
    "    if(err != 0):\n",
    "        print(\"Error getting motor 3\")\n",
    "    err, motor[3] =sim.simxGetObjectHandle(clientID, '/Motor_BR', sim.simx_opmode_blocking)\n",
    "    if(err != 0):\n",
    "        print(\"Error getting motor 4\")\n",
    "    \n",
    "    # ---------------------Initialize Sensors--------------------- #\n",
    "    \n",
    "    err, sensorHandle[0] = sim.simxGetObjectHandle(clientID, '/Vis_0', sim.simx_opmode_blocking)\n",
    "    if(err != 0):\n",
    "        print(\"Error_cam_0\")    \n",
    "    err, sensorHandle[1] = sim.simxGetObjectHandle(clientID, '/Vis_1', sim.simx_opmode_blocking)\n",
    "    if(err != 0):\n",
    "        print(\"Error_cam_1\")    \n",
    "    err, sensorHandle[2] = sim.simxGetObjectHandle(clientID, '/Vis_2', sim.simx_opmode_blocking)\n",
    "    if(err != 0):\n",
    "        print(\"Error_cam_2\")    \n",
    "    err, sensorHandle[3] = sim.simxGetObjectHandle(clientID, '/Vis_3', sim.simx_opmode_blocking)\n",
    "    if(err != 0):\n",
    "        print(\"Error_cam_3\")    \n",
    "    err, sensorHandle[4] = sim.simxGetObjectHandle(clientID, '/Vis_4', sim.simx_opmode_blocking)\n",
    "    if(err != 0):\n",
    "        print(\"Error_cam_4\")\n",
    "     \n",
    "    # ---------------------Enable Streaming--------------------- #\n",
    "    \n",
    "    err, state, _ = sim.simxReadVisionSensor(clientID, sensorHandle[0], sim.simx_opmode_streaming) \n",
    "    err, state, _ = sim.simxReadVisionSensor(clientID, sensorHandle[1], sim.simx_opmode_streaming)\n",
    "    err, state, _ = sim.simxReadVisionSensor(clientID, sensorHandle[2], sim.simx_opmode_streaming) \n",
    "    err, state, _ = sim.simxReadVisionSensor(clientID, sensorHandle[3], sim.simx_opmode_streaming) \n",
    "    err, state, _ = sim.simxReadVisionSensor(clientID, sensorHandle[4], sim.simx_opmode_streaming)\n",
    "    \n",
    "    print(\"Done Initialization\")\n",
    "\n",
    "    time.sleep(2)\n",
    "    \n",
    "else:\n",
    "    print ('Failed connecting to remote API server')"
   ]
  },
  {
   "cell_type": "markdown",
   "id": "5ad9796a",
   "metadata": {},
   "source": [
    "## Control parameters\n",
    "\n",
    "In this part, we set up some functions to control the robot\n",
    "\n",
    "- a function for reading sensor easily\n",
    "- a function for controlling motor speeds easily"
   ]
  },
  {
   "cell_type": "code",
   "execution_count": null,
   "id": "62e18a18",
   "metadata": {},
   "outputs": [],
   "source": [
    "def readSensor():\n",
    "    \n",
    "    sensorReading = np.array([0, 0, 0, 0, 0]).astype(float)\n",
    "    \n",
    "    # Try to retrieve the streamed data from 5 sensors in a loop\n",
    "    # the 11th value is the average pixel intensity of the vision sensor\n",
    "    # We threshold this data to detect line\n",
    "    \n",
    "    for i in range(5):\n",
    "        err, state, value = sim.simxReadVisionSensor(clientID, sensorHandle[i], sim.simx_opmode_buffer) \n",
    "        sensorReading[i] = value[0][11]<0.5 # if pixel intensity low, sensor is on black line, otherwise white\n",
    "    \n",
    "    return sensorReading "
   ]
  },
  {
   "cell_type": "code",
   "execution_count": null,
   "id": "1a01dc0e",
   "metadata": {},
   "outputs": [],
   "source": [
    "def motorControl(leftV, rightV):\n",
    "\n",
    "    # Two of the left motors use left velocity, two of the right motors use right velocity\n",
    "    sim.simxSetJointTargetVelocity(clientID, motor[0], leftV, sim.simx_opmode_oneshot)\n",
    "    sim.simxSetJointTargetVelocity(clientID, motor[1], leftV, sim.simx_opmode_oneshot)\n",
    "    sim.simxSetJointTargetVelocity(clientID, motor[2], rightV, sim.simx_opmode_oneshot)\n",
    "    sim.simxSetJointTargetVelocity(clientID, motor[3], rightV, sim.simx_opmode_oneshot)"
   ]
  },
  {
   "cell_type": "markdown",
   "id": "92035d2e",
   "metadata": {},
   "source": [
    "## Control Loop\n",
    "\n",
    "- Get readings from sensor\n",
    "- Complete necessary logical/mathematical operations to detect line\n",
    "- Send speed commands to motor"
   ]
  },
  {
   "cell_type": "code",
   "execution_count": null,
   "id": "e7333f79",
   "metadata": {},
   "outputs": [],
   "source": [
    "minSpeed = 50*np.pi/180\n",
    "maxSpeed = 300*np.pi/180\n",
    "\n",
    "speed = (minSpeed + maxSpeed)/2\n",
    "\n",
    "leftV = 0\n",
    "rightV = 0\n",
    "\n",
    "\n",
    "if clientID!=-1:\n",
    "    print (\"Running LFR Routine\")\n",
    "     \n",
    "    startTime = time.time()\n",
    "    \n",
    "    # Loop for 100 seconds\n",
    "    while time.time()-startTime < 100: \n",
    "        \n",
    "        # ----------------------------------- Get sensor data ----------------------------------- #\n",
    "        sensorReading = readSensor()\n",
    "        # print(sensorReading)\n",
    "        \n",
    "        # ----------------------------------- Analyze data/Decision ----------------------------------- #\n",
    "\n",
    "        leftV = speed\n",
    "        rightV = speed\n",
    "        \n",
    "        if(sensorReading[0]):\n",
    "            leftV=0.03*speed\n",
    "        if(sensorReading[4]):\n",
    "            rightV=0.03*speed\n",
    "        \n",
    "        # ----------------------------------- Send motor command ----------------------------------- #\n",
    "\n",
    "        motorControl(leftV, rightV)\n",
    "        \n",
    "else:\n",
    "    print ('Failed connecting to remote API server')"
   ]
  },
  {
   "cell_type": "markdown",
   "id": "38588f72",
   "metadata": {},
   "source": [
    "## Terminate simulation\n",
    "\n",
    "After simulation ends, we need to properly disconnect from the simulation"
   ]
  },
  {
   "cell_type": "code",
   "execution_count": null,
   "id": "61a053fd",
   "metadata": {},
   "outputs": [],
   "source": [
    "sim.simxFinish(clientID)\n",
    "\n",
    "    \n",
    "print ('Program ended')"
   ]
  }
 ],
 "metadata": {
  "kernelspec": {
   "display_name": "Python 3 (ipykernel)",
   "language": "python",
   "name": "python3"
  },
  "language_info": {
   "codemirror_mode": {
    "name": "ipython",
    "version": 3
   },
   "file_extension": ".py",
   "mimetype": "text/x-python",
   "name": "python",
   "nbconvert_exporter": "python",
   "pygments_lexer": "ipython3",
   "version": "3.7.13"
  }
 },
 "nbformat": 4,
 "nbformat_minor": 5
}
