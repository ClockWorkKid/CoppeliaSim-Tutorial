{
 "cells": [
  {
   "cell_type": "markdown",
   "id": "82678c29",
   "metadata": {},
   "source": [
    "# Line Following Robot CoppeliaSim\n",
    "\n",
    "### Setup\n",
    "\n",
    "Make sure to have the server side running in CoppeliaSim: \n",
    "- in a child script of a CoppeliaSim scene, add following command to be executed just once, at simulation start:\n",
    "\n",
    "```\n",
    "simRemoteApi.start(19999)\n",
    "```\n",
    "then start simulation, and run this program.\n",
    "\n",
    "IMPORTANT: for each successful call to simxStart, there\n",
    "should be a corresponding call to simxFinish at the end!"
   ]
  },
  {
   "cell_type": "code",
   "execution_count": 1,
   "id": "5ba35ba6",
   "metadata": {},
   "outputs": [],
   "source": [
    "%matplotlib qt\n",
    "\n",
    "try:\n",
    "    import sim\n",
    "except:\n",
    "    print ('--------------------------------------------------------------')\n",
    "    print ('\"sim.py\" could not be imported. This means very probably that')\n",
    "    print ('either \"sim.py\" or the remoteApi library could not be found.')\n",
    "    print ('Make sure both are in the same folder as this file,')\n",
    "    print ('or appropriately adjust the file \"sim.py\"')\n",
    "    print ('--------------------------------------------------------------')\n",
    "    print ('')\n",
    "\n",
    "import time\n",
    "import numpy as np\n",
    "import cv2\n",
    "import matplotlib.pyplot as plt"
   ]
  },
  {
   "cell_type": "markdown",
   "id": "df6a46c7",
   "metadata": {},
   "source": [
    "We have instructed CoppeliaSim to start a communication server on port 19999. The following statement is used to establish communication"
   ]
  },
  {
   "cell_type": "code",
   "execution_count": 2,
   "id": "9adde62b",
   "metadata": {},
   "outputs": [
    {
     "name": "stdout",
     "output_type": "stream",
     "text": [
      "Connected to remote API server\n"
     ]
    }
   ],
   "source": [
    "sim.simxFinish(-1) # just in case, close all opened connections\n",
    "clientID=sim.simxStart('127.0.0.1',19999,True,True,5000,5) # Connect to CoppeliaSim in synchronous\n",
    "\n",
    "if clientID!=-1:\n",
    "    print ('Connected to remote API server')\n",
    "else:\n",
    "    print ('Failed connecting to remote API server')  "
   ]
  },
  {
   "cell_type": "markdown",
   "id": "b1aa0821",
   "metadata": {},
   "source": [
    "### Robot Initialization\n",
    "\n",
    "On the first part of the script, we need to get the joint objects, sensor objects and set their operation modes.\n",
    "\n",
    "- Object handles are fetched using the blocking mode\n",
    "- The first call to simxReadVisionSensor() should be \"streaming\" and the consecutive calls should be \"buffer\" mode"
   ]
  },
  {
   "cell_type": "code",
   "execution_count": 3,
   "id": "43b90758",
   "metadata": {},
   "outputs": [
    {
     "name": "stdout",
     "output_type": "stream",
     "text": [
      "Done Initialization\n"
     ]
    }
   ],
   "source": [
    "# Motor handles\n",
    "motor = [-1, -1, -1, 1]  # motor[0] motor[1] are left, motor[2] motor[3] are right\n",
    "\n",
    "# Sensor handles\n",
    "camHandle = -1\n",
    "\n",
    "# Now try to retrieve handles in a blocking fashion (i.e. a service call):\n",
    "\n",
    "if clientID!=-1:\n",
    "\n",
    "    # ---------------------Initialize Motor--------------------- #\n",
    "    \n",
    "    err, motor[0] =sim.simxGetObjectHandle(clientID, '/Bot_Red/Motor_FL', sim.simx_opmode_blocking)\n",
    "    if(err != 0):\n",
    "        print(\"Error getting motor 1\")\n",
    "    err, motor[1] =sim.simxGetObjectHandle(clientID, '/Bot_Red/Motor_BL', sim.simx_opmode_blocking)\n",
    "    if(err != 0):\n",
    "        print(\"Error getting motor 2\")\n",
    "    err, motor[2] =sim.simxGetObjectHandle(clientID, '/Bot_Red/Motor_FR', sim.simx_opmode_blocking)\n",
    "    if(err != 0):\n",
    "        print(\"Error getting motor 3\")\n",
    "    err, motor[3] =sim.simxGetObjectHandle(clientID, '/Bot_Red/Motor_BR', sim.simx_opmode_blocking)\n",
    "    if(err != 0):\n",
    "        print(\"Error getting motor 4\")\n",
    "    \n",
    "    # ---------------------Initialize Sensors--------------------- #\n",
    "    \n",
    "    err, camHandle = sim.simxGetObjectHandle(clientID, '/Bot_Red/Cam', sim.simx_opmode_blocking)\n",
    "    if(err != 0):\n",
    "        print(\"Error_camera\")    \n",
    "     \n",
    "    # ---------------------Enable Streaming--------------------- #\n",
    "    \n",
    "    err, res, image = sim.simxGetVisionSensorImage(clientID,  camHandle, 0, sim.simx_opmode_streaming)\n",
    "    \n",
    "    print(\"Done Initialization\")\n",
    "\n",
    "    time.sleep(2)\n",
    "    \n",
    "else:\n",
    "    print ('Failed connecting to remote API server')"
   ]
  },
  {
   "cell_type": "markdown",
   "id": "5ad9796a",
   "metadata": {},
   "source": [
    "### Control parameters\n",
    "\n",
    "In this part, we set up some functions to control the robot\n",
    "\n",
    "- a function for reading sensor easily\n",
    "- a function for controlling motor speeds easily"
   ]
  },
  {
   "cell_type": "code",
   "execution_count": 4,
   "id": "62e18a18",
   "metadata": {},
   "outputs": [],
   "source": [
    "def readSensor():\n",
    "        \n",
    "    # Try to retrieve the streamed image\n",
    "    \n",
    "    err, res, image_raw = sim.simxGetVisionSensorImage(clientID,  camHandle, 0, sim.simx_opmode_buffer) \n",
    "    if(err != 0):\n",
    "        print(\"Error getting image\") \n",
    "    # print(err)\n",
    "    # print(res)\n",
    "    img = np.array(image_raw, dtype=np.uint8)\n",
    "    img.resize([res[1], res[0], 3])\n",
    "    img = img[::-1,:, :]\n",
    "    return img "
   ]
  },
  {
   "cell_type": "code",
   "execution_count": 5,
   "id": "1a01dc0e",
   "metadata": {},
   "outputs": [],
   "source": [
    "def motorControl(leftV, rightV):\n",
    "\n",
    "    # Two of the left motors use left velocity, two of the right motors use right velocity\n",
    "    sim.simxSetJointTargetVelocity(clientID, motor[0], leftV, sim.simx_opmode_oneshot)\n",
    "    sim.simxSetJointTargetVelocity(clientID, motor[1], leftV, sim.simx_opmode_oneshot)\n",
    "    sim.simxSetJointTargetVelocity(clientID, motor[2], rightV, sim.simx_opmode_oneshot)\n",
    "    sim.simxSetJointTargetVelocity(clientID, motor[3], rightV, sim.simx_opmode_oneshot)"
   ]
  },
  {
   "cell_type": "markdown",
   "id": "92035d2e",
   "metadata": {},
   "source": [
    "### Empty Control Routine\n",
    "\n",
    "- Get readings from sensor\n",
    "- Complete necessary logical/mathematical operations to detect line\n",
    "- Send speed commands to motor"
   ]
  },
  {
   "cell_type": "code",
   "execution_count": 22,
   "id": "e7333f79",
   "metadata": {},
   "outputs": [
    {
     "name": "stdout",
     "output_type": "stream",
     "text": [
      "Running Soccer Routine\n"
     ]
    }
   ],
   "source": [
    "minSpeed = 10*np.pi/180\n",
    "maxSpeed = 50*np.pi/180\n",
    "\n",
    "speed = (minSpeed + maxSpeed)/2\n",
    "\n",
    "leftV = 0\n",
    "rightV = 0\n",
    "\n",
    "\n",
    "\n",
    "if clientID!=-1:\n",
    "    print (\"Running Dummy Routine\")\n",
    "    \n",
    "    startTime = time.time()\n",
    "    \n",
    "    # Loop for 10 seconds\n",
    "    while time.time()-startTime < 5: \n",
    "        \n",
    "        # ----------------------------------- Get sensor data ----------------------------------- #\n",
    "        image = readSensor()\n",
    "        # print(image.shape)\n",
    "        \n",
    "        # ----------------------------------- Analyze data/Decision ----------------------------------- #\n",
    "\n",
    "        cv2.startWindowThread()\n",
    "        cv2.namedWindow(\"image\")\n",
    "        cv2.imshow('image', cv2.cvtColor(image, cv2.COLOR_BGR2RGB))\n",
    "        if cv2.waitKey(1) & 0xFF == ord('q'):\n",
    "            break\n",
    "        # ----------------------------------- Send motor command ----------------------------------- #\n",
    "\n",
    "        motorControl(0, 0)\n",
    "        \n",
    "    # stop motors\n",
    "    motorControl(0, 0)\n",
    "        \n",
    "else:\n",
    "    print ('Failed connecting to remote API server')"
   ]
  },
  {
   "cell_type": "markdown",
   "id": "78f52b12",
   "metadata": {},
   "source": [
    "### Ball Tracking Routine"
   ]
  },
  {
   "cell_type": "code",
   "execution_count": 6,
   "id": "ece25191",
   "metadata": {},
   "outputs": [],
   "source": [
    "def find_ball(img):\n",
    "    \n",
    "    # convert to HSV colorspace and find the orange regions\n",
    "    hsv = cv2.cvtColor(img, cv2.COLOR_BGR2HSV)\n",
    "    orange_mask = cv2.inRange(hsv, np.array([5,10,10]), np.array([20,255,255]))\n",
    "    orange_parts = cv2.bitwise_and(img, img, mask= orange_mask)\n",
    "    \n",
    "    # filter out random pixels\n",
    "    kernel = np.ones((5,5),np.uint8)\n",
    "    opening_orange = cv2.morphologyEx(orange_mask, cv2.MORPH_OPEN, kernel)\n",
    "\n",
    "    overlay_image = np.copy(img)\n",
    "\n",
    "    # Orange contour\n",
    "    contours = cv2.findContours(opening_orange, cv2.RETR_EXTERNAL, cv2.CHAIN_APPROX_SIMPLE)\n",
    "    contours = contours[0] if len(contours) == 2 else contours[1]\n",
    "\n",
    "    centroid = None\n",
    "    \n",
    "    for i in contours:\n",
    "        y,x,w,h = cv2.boundingRect(i)\n",
    "        cv2.rectangle(overlay_image, (y, x), (y + w, x + h), (0,255,255), 4)\n",
    "        centroid = np.array([x+h/2, y+w/2]).astype(float)\n",
    "\n",
    "    return overlay_image, centroid"
   ]
  },
  {
   "cell_type": "code",
   "execution_count": 7,
   "id": "42ca65bd",
   "metadata": {},
   "outputs": [],
   "source": [
    "def randomize_ball():\n",
    "    \n",
    "    # in this function, we set random positions to the ball\n",
    "    \n",
    "    err, ball = sim.simxGetObjectHandle(clientID, '/Field/Ball', sim.simx_opmode_blocking)\n",
    "    \n",
    "    err, pos  = sim.simxGetObjectPosition(clientID, ball, -1, sim.simx_opmode_blocking)\n",
    "    \n",
    "    pos[0] = (np.random.rand()-0.5)/2\n",
    "    pos[1] = np.random.rand()-0.5\n",
    "    \n",
    "    err = sim.simxSetObjectPosition(clientID, ball, -1, pos, sim.simx_opmode_oneshot)"
   ]
  },
  {
   "cell_type": "code",
   "execution_count": 93,
   "id": "e355e83f",
   "metadata": {},
   "outputs": [
    {
     "name": "stdout",
     "output_type": "stream",
     "text": [
      "Randomizing Ball Location\n",
      "Trying to locate and track ball\n",
      "Randomizing Ball Location\n",
      "Trying to locate and track ball\n",
      "Randomizing Ball Location\n",
      "Trying to locate and track ball\n",
      "Randomizing Ball Location\n",
      "Trying to locate and track ball\n",
      "Randomizing Ball Location\n",
      "Trying to locate and track ball\n"
     ]
    }
   ],
   "source": [
    "minSpeed = 10*np.pi/180\n",
    "maxSpeed = 50*np.pi/180\n",
    "\n",
    "speed = (minSpeed + maxSpeed)/2\n",
    "\n",
    "leftV = 0\n",
    "rightV = 0\n",
    "\n",
    "# We will set the ball at 5 random positions and track it\n",
    "\n",
    "for i in range(5):\n",
    "    \n",
    "    if clientID!=-1:\n",
    "        \n",
    "        print (\"Randomizing Ball Location\")\n",
    "        randomize_ball()\n",
    "\n",
    "        print (\"Trying to locate and track ball\")\n",
    "        startTime = time.time()\n",
    "\n",
    "        # Loop for 10 seconds to find ball and center it on screen\n",
    "        while time.time()-startTime < 10: \n",
    "\n",
    "            # ----------------------------------- Get sensor data ----------------------------------- #\n",
    "            image = readSensor()\n",
    "\n",
    "            # ----------------------------------- Analyze data/Decision ----------------------------------- #\n",
    "\n",
    "            # converting RGB image to BGR, BGR is the default for opencv\n",
    "            \n",
    "            image = cv2.cvtColor(image, cv2.COLOR_BGR2RGB)\n",
    "            overlay_image, centroid = find_ball(image)\n",
    "            \n",
    "            # deciding whether ball is on left or right. \n",
    "            # If ball is not in frame, keep rotating until it is found\n",
    "            if centroid is None:\n",
    "                leftV = maxSpeed\n",
    "                rightV = -maxSpeed\n",
    "            else:\n",
    "                horizontal_displacement = (image.shape[1]/2 - centroid[1]) / image.shape[1]\n",
    "                # negative displacement means ball is on the right\n",
    "                # positive displacement means ball is on the left\n",
    "                leftV = -horizontal_displacement\n",
    "                rightV = horizontal_displacement\n",
    "                \n",
    "            cv2.startWindowThread()\n",
    "            cv2.namedWindow(\"Tracking ball\")\n",
    "            cv2.imshow('Tracking ball', overlay_image)\n",
    "            if cv2.waitKey(1) & 0xFF == ord('q'):\n",
    "                break\n",
    "            # ----------------------------------- Send motor command ----------------------------------- #\n",
    "\n",
    "            motorControl(leftV, rightV)\n",
    "\n",
    "        # stop motors\n",
    "        motorControl(0, 0)\n",
    "\n",
    "    else:\n",
    "        print ('Failed connecting to remote API server')\n"
   ]
  },
  {
   "cell_type": "markdown",
   "id": "710497c8",
   "metadata": {},
   "source": [
    "### Catch the Ball"
   ]
  },
  {
   "cell_type": "code",
   "execution_count": 9,
   "id": "05a0d06f",
   "metadata": {},
   "outputs": [
    {
     "name": "stdout",
     "output_type": "stream",
     "text": [
      "Randomizing Ball Location\n",
      "Trying to locate and track ball\n",
      "Randomizing Ball Location\n",
      "Trying to locate and track ball\n",
      "Randomizing Ball Location\n",
      "Trying to locate and track ball\n",
      "Randomizing Ball Location\n",
      "Trying to locate and track ball\n",
      "Randomizing Ball Location\n",
      "Trying to locate and track ball\n"
     ]
    }
   ],
   "source": [
    "minSpeed = 10*np.pi/180\n",
    "maxSpeed = 50*np.pi/180\n",
    "\n",
    "speed = (minSpeed + maxSpeed)/2\n",
    "\n",
    "leftV = 0\n",
    "rightV = 0\n",
    "\n",
    "# We will set the ball at 5 random positions and track it\n",
    "\n",
    "for i in range(5):\n",
    "    \n",
    "    if clientID!=-1:\n",
    "        \n",
    "        print (\"Randomizing Ball Location\")\n",
    "        randomize_ball()\n",
    "\n",
    "        print (\"Trying to locate and track ball\")\n",
    "        startTime = time.time()\n",
    "\n",
    "        # Loop for 10 seconds to find ball and center it on screen\n",
    "        while time.time()-startTime < 10: \n",
    "\n",
    "            # ----------------------------------- Get sensor data ----------------------------------- #\n",
    "            image = readSensor()\n",
    "\n",
    "            # ----------------------------------- Analyze data/Decision ----------------------------------- #\n",
    "\n",
    "            # converting RGB image to BGR, BGR is the default for opencv\n",
    "            \n",
    "            image = cv2.cvtColor(image, cv2.COLOR_BGR2RGB)\n",
    "            overlay_image, centroid = find_ball(image)\n",
    "            \n",
    "            # deciding whether ball is on left or right. \n",
    "            # If ball is not in frame, keep rotating until it is found\n",
    "            if centroid is None:\n",
    "                leftV = maxSpeed\n",
    "                rightV = -maxSpeed\n",
    "            else:\n",
    "                horizontal_displacement = (image.shape[1]/2 - centroid[1]) / image.shape[1]\n",
    "                # negative displacement means ball is on the right\n",
    "                # positive displacement means ball is on the left\n",
    "                \n",
    "                vertical_displacement = (image.shape[0] - centroid[0]) / image.shape[0]\n",
    "                # the higher displacement, further away the ball\n",
    "                \n",
    "                leftV = -horizontal_displacement + vertical_displacement*2\n",
    "                rightV = horizontal_displacement + vertical_displacement*2\n",
    "                   \n",
    "            cv2.startWindowThread()\n",
    "            cv2.namedWindow(\"Tracking ball\")\n",
    "            cv2.imshow('Tracking ball', overlay_image)\n",
    "            if cv2.waitKey(1) & 0xFF == ord('q'):\n",
    "                break\n",
    "            # ----------------------------------- Send motor command ----------------------------------- #\n",
    "\n",
    "            motorControl(leftV, rightV)\n",
    "\n",
    "        # stop motors\n",
    "        motorControl(0, 0)\n",
    "\n",
    "    else:\n",
    "        print ('Failed connecting to remote API server')\n"
   ]
  },
  {
   "cell_type": "markdown",
   "id": "38588f72",
   "metadata": {},
   "source": [
    "### Terminate simulation\n",
    "\n",
    "After simulation ends, we need to properly disconnect from the simulation"
   ]
  },
  {
   "cell_type": "code",
   "execution_count": null,
   "id": "61a053fd",
   "metadata": {},
   "outputs": [],
   "source": [
    "sim.simxFinish(clientID)\n",
    "\n",
    "    \n",
    "print ('Program ended')"
   ]
  }
 ],
 "metadata": {
  "kernelspec": {
   "display_name": "Python 3 (ipykernel)",
   "language": "python",
   "name": "python3"
  },
  "language_info": {
   "codemirror_mode": {
    "name": "ipython",
    "version": 3
   },
   "file_extension": ".py",
   "mimetype": "text/x-python",
   "name": "python",
   "nbconvert_exporter": "python",
   "pygments_lexer": "ipython3",
   "version": "3.7.13"
  }
 },
 "nbformat": 4,
 "nbformat_minor": 5
}
